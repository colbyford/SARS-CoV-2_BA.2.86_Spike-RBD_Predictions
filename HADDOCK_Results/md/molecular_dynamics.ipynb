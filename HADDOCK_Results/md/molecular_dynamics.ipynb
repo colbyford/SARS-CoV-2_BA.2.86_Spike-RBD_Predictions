{
 "cells": [
  {
   "cell_type": "markdown",
   "metadata": {},
   "source": [
    "# Molecular Dynamics of Docked Structures\n"
   ]
  },
  {
   "cell_type": "markdown",
   "metadata": {},
   "source": [
    "You'll need...\n",
    "\n",
    "```bash\n",
    "conda install -c conda-forge pdbfixer openmm matplotlib\n",
    "```"
   ]
  },
  {
   "cell_type": "code",
   "execution_count": null,
   "metadata": {},
   "outputs": [],
   "source": [
    "## Load Libraries\n",
    "from openmm.app import *\n",
    "from openmm import *\n",
    "from openmm.unit import *\n",
    "from openmm.app import PDBFile\n",
    "from pdbfixer import PDBFixer\n",
    "\n",
    "from sys import stdout\n",
    "import os\n"
   ]
  },
  {
   "cell_type": "code",
   "execution_count": null,
   "metadata": {},
   "outputs": [],
   "source": [
    "## Define Input PDB Structure\n",
    "# input_pbd_file = '../HADDOCK Output Structures/6m0j/6M0J_ACE2_BA286.pdb'\n",
    "# input_pbd_file = '../HADDOCK Output Structures/8dw9/8dw9_BA286.pdb'\n",
    "# input_pbd_file = '../HADDOCK Output Structures/7x2h/7x2h_BA286.pdb'\n",
    "input_pbd_file = '../HADDOCK Output Structures/7qez/7qez_BA286.pdb'\n",
    "\n",
    "output_pdb_file = input_pbd_file.replace('../HADDOCK Output Structures/', './').replace('.pdb', '_clean.pdb')\n",
    "\n",
    "print('Cleaning up PDB file...')\n",
    "print(f'\\tInput PDB File: {input_pbd_file}')\n",
    "\n",
    "## Make folders for output file\n",
    "output_folder = os.path.dirname(output_pdb_file)\n",
    "if not os.path.exists(output_folder):\n",
    "    os.makedirs(output_folder)\n"
   ]
  },
  {
   "cell_type": "code",
   "execution_count": null,
   "metadata": {},
   "outputs": [],
   "source": [
    "\n",
    "## Fix PDB file to repair missing hydrogens and other issues\n",
    "print('Preparing PDB file...')\n",
    "\n",
    "fixer = PDBFixer(filename=input_pbd_file)\n",
    "fixer.findMissingResidues()\n",
    "fixer.findNonstandardResidues()\n",
    "fixer.replaceNonstandardResidues()\n",
    "fixer.removeHeterogens(True)\n",
    "fixer.findMissingAtoms()\n",
    "fixer.addMissingAtoms()\n",
    "fixer.addMissingHydrogens(7.0)\n",
    "# fixer.addSolvent(fixer.topology.getUnitCellDimensions())\n",
    "PDBFile.writeFile(fixer.topology, fixer.positions, open(output_pdb_file, 'w'))\n",
    "\n",
    "print(f'\\tOutput PDB File: {output_pdb_file}')"
   ]
  },
  {
   "cell_type": "code",
   "execution_count": null,
   "metadata": {},
   "outputs": [],
   "source": [
    "## Make Forcefield and Modeller\n",
    "pdb = PDBFile(output_pdb_file)\n",
    "forcefield = ForceField('amber14-all.xml', 'amber14/tip3pfb.xml')\n",
    "\n",
    "modeller = Modeller(pdb.topology, pdb.positions)\n",
    "modeller.deleteWater()\n",
    "\n",
    "residues = modeller.addHydrogens(forcefield)\n",
    "modeller.addSolvent(forcefield, padding=1.0*nanometer)\n",
    "\n",
    "print('Creating OpenMM System...')\n",
    "system = forcefield.createSystem(modeller.topology, nonbondedMethod=PME, nonbondedCutoff=1.0*nanometer, constraints=HBonds)\n",
    "integrator = LangevinMiddleIntegrator(300*kelvin, 1/picosecond, 0.004*picoseconds)\n",
    "simulation = Simulation(modeller.topology, system, integrator)\n",
    "simulation.context.setPositions(modeller.positions)"
   ]
  },
  {
   "cell_type": "code",
   "execution_count": null,
   "metadata": {},
   "outputs": [],
   "source": [
    "## Minimize Energy\n",
    "print(\"Minimizing energy...\")\n",
    "simulation.minimizeEnergy(maxIterations = 250)\n",
    "# simulation.minimizeEnergy()\n",
    "## In theory, we're already at the lowest (or low-ish) energy from HADDOCK?"
   ]
  },
  {
   "cell_type": "code",
   "execution_count": null,
   "metadata": {},
   "outputs": [],
   "source": [
    "## Equilibrate\n",
    "simulation.reporters.append(PDBReporter(output_pdb_file, 1000))\n",
    "simulation.reporters.append(StateDataReporter(stdout, 1000, step=True,\n",
    "        potentialEnergy=True, temperature=True, volume=True))\n",
    "\n",
    "output_pdb_md_log_file = output_pdb_file.replace('.pdb', '_log.txt')\n",
    "simulation.reporters.append(StateDataReporter(output_pdb_md_log_file,\n",
    "                                              100,\n",
    "                                              step=True,\n",
    "                                              potentialEnergy=True,\n",
    "                                              temperature=True,\n",
    "                                              volume=True))"
   ]
  },
  {
   "cell_type": "code",
   "execution_count": null,
   "metadata": {},
   "outputs": [],
   "source": [
    "## Run NVT\n",
    "print(\"Running NVT...\")\n",
    "n_steps = 5000\n",
    "simulation.step(n_steps)"
   ]
  },
  {
   "cell_type": "code",
   "execution_count": null,
   "metadata": {},
   "outputs": [],
   "source": [
    "## Run NPT\n",
    "# system.addForce(MonteCarloBarostat(1*bar, 300*kelvin))\n",
    "# simulation.context.reinitialize(preserveState=True)\n",
    "\n",
    "# print(\"Running NPT...\")\n",
    "# simulation.step(10000)"
   ]
  },
  {
   "cell_type": "code",
   "execution_count": null,
   "metadata": {},
   "outputs": [],
   "source": [
    "## Plot Results\n",
    "import numpy as np\n",
    "import matplotlib.pyplot as plt\n",
    "\n",
    "## Load Data\n",
    "data = np.loadtxt(output_pdb_md_log_file, delimiter=',')\n",
    "\n",
    "step = data[:,0]\n",
    "potential_energy = data[:,1]\n",
    "temperature = data[:,2]\n",
    "volume = data[:,3]\n",
    "\n",
    "## Potential Energy\n",
    "plt.plot(step, potential_energy)\n",
    "plt.xlabel(\"Step\")\n",
    "plt.ylabel(\"Potential energy (kJ/mol)\")\n",
    "plt.savefig(output_pdb_file.replace('.pdb', '_potential_energy.png'))\n",
    "plt.show()\n",
    "\n",
    "\n",
    "## Temperature\n",
    "plt.plot(step, temperature)\n",
    "plt.xlabel(\"Step\")\n",
    "plt.ylabel(\"Temperature (K)\")\n",
    "plt.savefig(output_pdb_file.replace('.pdb', '_temperature.png'))\n",
    "plt.show()\n",
    "\n",
    "## Volume\n",
    "plt.plot(step, volume)\n",
    "plt.xlabel(\"Step\")\n",
    "plt.ylabel(\"Volume (nm^3)\")\n",
    "plt.savefig(output_pdb_file.replace('.pdb', '_volume.png'))\n",
    "plt.show()"
   ]
  },
  {
   "cell_type": "code",
   "execution_count": 63,
   "metadata": {},
   "outputs": [],
   "source": [
    "## Output Full PDB (post-simulation)\n",
    "\n",
    "positions = simulation.context.getState(getPositions=True).getPositions()\n",
    "PDBFile.writeFile(simulation.topology, positions, open(f'{output_pdb_file}_FULL.pdb', 'w'))"
   ]
  },
  {
   "cell_type": "code",
   "execution_count": null,
   "metadata": {},
   "outputs": [],
   "source": []
  }
 ],
 "metadata": {
  "kernelspec": {
   "display_name": "Python 3",
   "language": "python",
   "name": "python3"
  },
  "language_info": {
   "codemirror_mode": {
    "name": "ipython",
    "version": 3
   },
   "file_extension": ".py",
   "mimetype": "text/x-python",
   "name": "python",
   "nbconvert_exporter": "python",
   "pygments_lexer": "ipython3",
   "version": "3.9.12"
  }
 },
 "nbformat": 4,
 "nbformat_minor": 2
}
